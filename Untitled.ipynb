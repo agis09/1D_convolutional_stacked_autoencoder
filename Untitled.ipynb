{
 "cells": [
  {
   "cell_type": "code",
   "execution_count": 5,
   "metadata": {},
   "outputs": [],
   "source": [
    "from model import DeepAutoEncoder, \\\n",
    "    AutoEncoderStack01, AutoEncoderStack02, AutoEncoderStack03, \\\n",
    "    AutoEncoderStack04\n",
    "\n",
    "import numpy as np\n",
    "import sys\n",
    "import pandas as pd\n",
    "from keras.models import load_model\n"
   ]
  },
  {
   "cell_type": "code",
   "execution_count": 6,
   "metadata": {},
   "outputs": [
    {
     "name": "stdout",
     "output_type": "stream",
     "text": [
      "(329, 1129, 1)\n",
      "WARNING:tensorflow:From /home/zeus/.conda/envs/work1/lib/python3.6/site-packages/tensorflow/python/framework/op_def_library.py:263: colocate_with (from tensorflow.python.framework.ops) is deprecated and will be removed in a future version.\n",
      "Instructions for updating:\n",
      "Colocations handled automatically by placer.\n",
      "WARNING:tensorflow:From /home/zeus/.conda/envs/work1/lib/python3.6/site-packages/tensorflow/python/ops/math_ops.py:3066: to_int32 (from tensorflow.python.ops.math_ops) is deprecated and will be removed in a future version.\n",
      "Instructions for updating:\n",
      "Use tf.cast instead.\n"
     ]
    },
    {
     "name": "stderr",
     "output_type": "stream",
     "text": [
      "/home/zeus/workspace/1D_convolutional_stacked_autoencoder/model.py:11: UserWarning: Update your `Conv1D` call to the Keras 2 API: `Conv1D(16, 7, activation=\"relu\", padding=\"same\", kernel_initializer=\"glorot_normal\", kernel_regularizer=<keras.reg...)`\n",
      "  W_regularizer=regularizers.l2(0.0005))(input_img)  # 1\n",
      "/home/zeus/workspace/1D_convolutional_stacked_autoencoder/model.py:12: UserWarning: Update your `MaxPooling1D` call to the Keras 2 API: `MaxPooling1D(2, padding=\"same\")`\n",
      "  pool1 = MaxPooling1D(2, border_mode='same')(conv1)  # 2\n",
      "/home/zeus/workspace/1D_convolutional_stacked_autoencoder/model.py:15: UserWarning: Update your `Conv1D` call to the Keras 2 API: `Conv1D(32, 5, activation=\"relu\", padding=\"same\", kernel_initializer=\"glorot_normal\", kernel_regularizer=<keras.reg...)`\n",
      "  W_regularizer=regularizers.l2(0.0005))(pool1)  # 3\n",
      "/home/zeus/workspace/1D_convolutional_stacked_autoencoder/model.py:16: UserWarning: Update your `MaxPooling1D` call to the Keras 2 API: `MaxPooling1D(2, padding=\"same\")`\n",
      "  pool2 = MaxPooling1D(2, border_mode='same')(conv2)  # 4\n",
      "/home/zeus/workspace/1D_convolutional_stacked_autoencoder/model.py:19: UserWarning: Update your `Conv1D` call to the Keras 2 API: `Conv1D(64, 3, activation=\"relu\", padding=\"same\", kernel_initializer=\"glorot_normal\", kernel_regularizer=<keras.reg...)`\n",
      "  W_regularizer=regularizers.l2(0.0005))(pool2)  # 5\n",
      "/home/zeus/workspace/1D_convolutional_stacked_autoencoder/model.py:20: UserWarning: Update your `MaxPooling1D` call to the Keras 2 API: `MaxPooling1D(2, padding=\"same\")`\n",
      "  pool3 = MaxPooling1D(2, border_mode='same')(conv3)  # 6\n",
      "/home/zeus/workspace/1D_convolutional_stacked_autoencoder/model.py:23: UserWarning: Update your `Conv1D` call to the Keras 2 API: `Conv1D(128, 3, activation=\"relu\", padding=\"same\", kernel_initializer=\"glorot_normal\", kernel_regularizer=<keras.reg...)`\n",
      "  W_regularizer=regularizers.l2(0.0005))(pool3)  # 7\n",
      "/home/zeus/workspace/1D_convolutional_stacked_autoencoder/model.py:24: UserWarning: Update your `MaxPooling1D` call to the Keras 2 API: `MaxPooling1D(2, padding=\"same\")`\n",
      "  pool4 = MaxPooling1D(2, border_mode='same')(conv4)  # 8\n",
      "/home/zeus/workspace/1D_convolutional_stacked_autoencoder/model.py:30: UserWarning: Update your `Conv1D` call to the Keras 2 API: `Conv1D(64, 3, activation=\"relu\", padding=\"same\", kernel_initializer=\"glorot_normal\", kernel_regularizer=<keras.reg...)`\n",
      "  W_regularizer=regularizers.l2(0.0005))(unpool4)  # 10\n",
      "/home/zeus/workspace/1D_convolutional_stacked_autoencoder/model.py:34: UserWarning: Update your `Conv1D` call to the Keras 2 API: `Conv1D(32, 3, activation=\"relu\", padding=\"same\", kernel_initializer=\"glorot_normal\", kernel_regularizer=<keras.reg...)`\n",
      "  W_regularizer=regularizers.l2(0.0005))(unpool3)  # 12\n",
      "/home/zeus/workspace/1D_convolutional_stacked_autoencoder/model.py:38: UserWarning: Update your `Conv1D` call to the Keras 2 API: `Conv1D(16, 5, activation=\"relu\", padding=\"same\", kernel_initializer=\"glorot_normal\", kernel_regularizer=<keras.reg...)`\n",
      "  W_regularizer=regularizers.l2(0.0005))(unpool2)  # 14\n",
      "/home/zeus/workspace/1D_convolutional_stacked_autoencoder/model.py:45: UserWarning: Update your `Conv1D` call to the Keras 2 API: `Conv1D(1, 7, activation=\"sigmoid\", padding=\"same\", kernel_initializer=\"glorot_normal\", kernel_regularizer=<keras.reg...)`\n",
      "  W_regularizer=regularizers.l2(0.0005))(crop)  # 16\n",
      "/home/zeus/workspace/1D_convolutional_stacked_autoencoder/model.py:47: UserWarning: Update your `Model` call to the Keras 2 API: `Model(inputs=Tensor(\"in..., outputs=Tensor(\"ma...)`\n",
      "  self.encoder = Model(input=input_img, output=encoded)\n",
      "/home/zeus/workspace/1D_convolutional_stacked_autoencoder/model.py:48: UserWarning: Update your `Model` call to the Keras 2 API: `Model(inputs=Tensor(\"in..., outputs=Tensor(\"co...)`\n",
      "  self.autoencoder = Model(input=input_img, output=decoded)\n"
     ]
    },
    {
     "name": "stdout",
     "output_type": "stream",
     "text": [
      "_________________________________________________________________\n",
      "Layer (type)                 Output Shape              Param #   \n",
      "=================================================================\n",
      "input_1 (InputLayer)         (None, 1129, 1)           0         \n",
      "_________________________________________________________________\n",
      "conv1d_1 (Conv1D)            (None, 1129, 16)          128       \n",
      "_________________________________________________________________\n",
      "max_pooling1d_1 (MaxPooling1 (None, 565, 16)           0         \n",
      "_________________________________________________________________\n",
      "conv1d_2 (Conv1D)            (None, 565, 32)           2592      \n",
      "_________________________________________________________________\n",
      "max_pooling1d_2 (MaxPooling1 (None, 283, 32)           0         \n",
      "_________________________________________________________________\n",
      "conv1d_3 (Conv1D)            (None, 283, 64)           6208      \n",
      "_________________________________________________________________\n",
      "max_pooling1d_3 (MaxPooling1 (None, 142, 64)           0         \n",
      "_________________________________________________________________\n",
      "conv1d_4 (Conv1D)            (None, 142, 128)          24704     \n",
      "_________________________________________________________________\n",
      "max_pooling1d_4 (MaxPooling1 (None, 71, 128)           0         \n",
      "_________________________________________________________________\n",
      "up_sampling1d_1 (UpSampling1 (None, 142, 128)          0         \n",
      "_________________________________________________________________\n",
      "conv1d_5 (Conv1D)            (None, 142, 64)           24640     \n",
      "_________________________________________________________________\n",
      "up_sampling1d_2 (UpSampling1 (None, 284, 64)           0         \n",
      "_________________________________________________________________\n",
      "conv1d_6 (Conv1D)            (None, 284, 32)           6176      \n",
      "_________________________________________________________________\n",
      "up_sampling1d_3 (UpSampling1 (None, 568, 32)           0         \n",
      "_________________________________________________________________\n",
      "conv1d_7 (Conv1D)            (None, 568, 16)           2576      \n",
      "_________________________________________________________________\n",
      "up_sampling1d_4 (UpSampling1 (None, 1136, 16)          0         \n",
      "_________________________________________________________________\n",
      "cropping1d_1 (Cropping1D)    (None, 1129, 16)          0         \n",
      "_________________________________________________________________\n",
      "conv1d_8 (Conv1D)            (None, 1129, 1)           113       \n",
      "=================================================================\n",
      "Total params: 67,137\n",
      "Trainable params: 67,137\n",
      "Non-trainable params: 0\n",
      "_________________________________________________________________\n",
      "None\n"
     ]
    },
    {
     "ename": "ValueError",
     "evalue": "You called `set_weights(weights)` on layer \"cropping1d_1\" with a  weight list of length 2, but the layer was expecting 0 weights. Provided weights: [array([[[ 0.04850026],\n        [-0.24381472],\n   ...",
     "output_type": "error",
     "traceback": [
      "\u001b[0;31m---------------------------------------------------------------------------\u001b[0m",
      "\u001b[0;31mValueError\u001b[0m                                Traceback (most recent call last)",
      "\u001b[0;32m<ipython-input-6-6a0d6f946e83>\u001b[0m in \u001b[0;36m<module>\u001b[0;34m\u001b[0m\n\u001b[1;32m     12\u001b[0m \u001b[0mstacked_ae\u001b[0m \u001b[0;34m=\u001b[0m \u001b[0mDeepAutoEncoder\u001b[0m\u001b[0;34m(\u001b[0m\u001b[0mx_train1\u001b[0m\u001b[0;34m)\u001b[0m\u001b[0;34m\u001b[0m\u001b[0;34m\u001b[0m\u001b[0m\n\u001b[1;32m     13\u001b[0m \u001b[0mstacked_ae\u001b[0m\u001b[0;34m.\u001b[0m\u001b[0mcompile\u001b[0m\u001b[0;34m(\u001b[0m\u001b[0;34m)\u001b[0m\u001b[0;34m\u001b[0m\u001b[0;34m\u001b[0m\u001b[0m\n\u001b[0;32m---> 14\u001b[0;31m \u001b[0mstacked_ae\u001b[0m\u001b[0;34m.\u001b[0m\u001b[0mload_weights\u001b[0m\u001b[0;34m(\u001b[0m\u001b[0mae01\u001b[0m\u001b[0;34m,\u001b[0m\u001b[0mae02\u001b[0m\u001b[0;34m,\u001b[0m\u001b[0mae03\u001b[0m\u001b[0;34m,\u001b[0m\u001b[0mae04\u001b[0m\u001b[0;34m)\u001b[0m\u001b[0;34m\u001b[0m\u001b[0;34m\u001b[0m\u001b[0m\n\u001b[0m",
      "\u001b[0;32m~/workspace/1D_convolutional_stacked_autoencoder/model.py\u001b[0m in \u001b[0;36mload_weights\u001b[0;34m(self, ae01, ae02, ae03, ae04)\u001b[0m\n\u001b[1;32m     72\u001b[0m         \u001b[0mself\u001b[0m\u001b[0;34m.\u001b[0m\u001b[0mautoencoder\u001b[0m\u001b[0;34m.\u001b[0m\u001b[0mlayers\u001b[0m\u001b[0;34m[\u001b[0m\u001b[0;36m12\u001b[0m\u001b[0;34m]\u001b[0m\u001b[0;34m.\u001b[0m\u001b[0mset_weights\u001b[0m\u001b[0;34m(\u001b[0m\u001b[0mae03\u001b[0m\u001b[0;34m.\u001b[0m\u001b[0mlayers\u001b[0m\u001b[0;34m[\u001b[0m\u001b[0;36m4\u001b[0m\u001b[0;34m]\u001b[0m\u001b[0;34m.\u001b[0m\u001b[0mget_weights\u001b[0m\u001b[0;34m(\u001b[0m\u001b[0;34m)\u001b[0m\u001b[0;34m)\u001b[0m\u001b[0;34m\u001b[0m\u001b[0;34m\u001b[0m\u001b[0m\n\u001b[1;32m     73\u001b[0m         \u001b[0mself\u001b[0m\u001b[0;34m.\u001b[0m\u001b[0mautoencoder\u001b[0m\u001b[0;34m.\u001b[0m\u001b[0mlayers\u001b[0m\u001b[0;34m[\u001b[0m\u001b[0;36m14\u001b[0m\u001b[0;34m]\u001b[0m\u001b[0;34m.\u001b[0m\u001b[0mset_weights\u001b[0m\u001b[0;34m(\u001b[0m\u001b[0mae02\u001b[0m\u001b[0;34m.\u001b[0m\u001b[0mlayers\u001b[0m\u001b[0;34m[\u001b[0m\u001b[0;36m4\u001b[0m\u001b[0;34m]\u001b[0m\u001b[0;34m.\u001b[0m\u001b[0mget_weights\u001b[0m\u001b[0;34m(\u001b[0m\u001b[0;34m)\u001b[0m\u001b[0;34m)\u001b[0m\u001b[0;34m\u001b[0m\u001b[0;34m\u001b[0m\u001b[0m\n\u001b[0;32m---> 74\u001b[0;31m         \u001b[0mself\u001b[0m\u001b[0;34m.\u001b[0m\u001b[0mautoencoder\u001b[0m\u001b[0;34m.\u001b[0m\u001b[0mlayers\u001b[0m\u001b[0;34m[\u001b[0m\u001b[0;36m16\u001b[0m\u001b[0;34m]\u001b[0m\u001b[0;34m.\u001b[0m\u001b[0mset_weights\u001b[0m\u001b[0;34m(\u001b[0m\u001b[0mae01\u001b[0m\u001b[0;34m.\u001b[0m\u001b[0mlayers\u001b[0m\u001b[0;34m[\u001b[0m\u001b[0;36m4\u001b[0m\u001b[0;34m]\u001b[0m\u001b[0;34m.\u001b[0m\u001b[0mget_weights\u001b[0m\u001b[0;34m(\u001b[0m\u001b[0;34m)\u001b[0m\u001b[0;34m)\u001b[0m\u001b[0;34m\u001b[0m\u001b[0;34m\u001b[0m\u001b[0m\n\u001b[0m\u001b[1;32m     75\u001b[0m \u001b[0;34m\u001b[0m\u001b[0m\n\u001b[1;32m     76\u001b[0m \u001b[0;34m\u001b[0m\u001b[0m\n",
      "\u001b[0;32m~/.conda/envs/work1/lib/python3.6/site-packages/keras/engine/base_layer.py\u001b[0m in \u001b[0;36mset_weights\u001b[0;34m(self, weights)\u001b[0m\n\u001b[1;32m   1045\u001b[0m                              \u001b[0mstr\u001b[0m\u001b[0;34m(\u001b[0m\u001b[0mlen\u001b[0m\u001b[0;34m(\u001b[0m\u001b[0mparams\u001b[0m\u001b[0;34m)\u001b[0m\u001b[0;34m)\u001b[0m \u001b[0;34m+\u001b[0m\u001b[0;34m\u001b[0m\u001b[0;34m\u001b[0m\u001b[0m\n\u001b[1;32m   1046\u001b[0m                              \u001b[0;34m' weights. Provided weights: '\u001b[0m \u001b[0;34m+\u001b[0m\u001b[0;34m\u001b[0m\u001b[0;34m\u001b[0m\u001b[0m\n\u001b[0;32m-> 1047\u001b[0;31m                              str(weights)[:50] + '...')\n\u001b[0m\u001b[1;32m   1048\u001b[0m         \u001b[0;32mif\u001b[0m \u001b[0;32mnot\u001b[0m \u001b[0mparams\u001b[0m\u001b[0;34m:\u001b[0m\u001b[0;34m\u001b[0m\u001b[0;34m\u001b[0m\u001b[0m\n\u001b[1;32m   1049\u001b[0m             \u001b[0;32mreturn\u001b[0m\u001b[0;34m\u001b[0m\u001b[0;34m\u001b[0m\u001b[0m\n",
      "\u001b[0;31mValueError\u001b[0m: You called `set_weights(weights)` on layer \"cropping1d_1\" with a  weight list of length 2, but the layer was expecting 0 weights. Provided weights: [array([[[ 0.04850026],\n        [-0.24381472],\n   ..."
     ]
    }
   ],
   "source": [
    "data_path = \"../N_lab_2019_03_mouse_cell_classification/data/data.csv\"\n",
    "df=pd.read_csv(data_path)\n",
    "x_train1 = df.loc[:, \"591\":\"1719\"].values\n",
    "x_train1 = np.reshape(x_train1, (x_train1.shape[0], x_train1.shape[1], 1))\n",
    "x_test1 = x_train1\n",
    "print(x_train1.shape)\n",
    "\n",
    "ae01 = load_model('./save_data/stack01_autoencoder.h5')\n",
    "ae02 = load_model('./save_data/stack02_autoencoder.h5')\n",
    "ae03 = load_model('./save_data/stack03_autoencoder.h5')\n",
    "ae04 = load_model('./save_data/stack04_autoencoder.h5')\n",
    "stacked_ae = DeepAutoEncoder(x_train1)\n",
    "stacked_ae.compile()\n",
    "stacked_ae.load_weights(ae01,ae02,ae03,ae04)\n",
    "stacked_ae.train()"
   ]
  }
 ],
 "metadata": {
  "kernelspec": {
   "display_name": "Python 3",
   "language": "python",
   "name": "python3"
  },
  "language_info": {
   "codemirror_mode": {
    "name": "ipython",
    "version": 3
   },
   "file_extension": ".py",
   "mimetype": "text/x-python",
   "name": "python",
   "nbconvert_exporter": "python",
   "pygments_lexer": "ipython3",
   "version": "3.6.8"
  }
 },
 "nbformat": 4,
 "nbformat_minor": 2
}
